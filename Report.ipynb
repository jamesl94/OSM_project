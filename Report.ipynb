{
 "cells": [
  {
   "cell_type": "markdown",
   "metadata": {},
   "source": [
    "# Wrangle Open Street Maps Data\n"
   ]
  },
  {
   "cell_type": "markdown",
   "metadata": {},
   "source": [
    "### Introduction\n",
    "\n",
    "This project start with Open Street Map data downloaded <a href=\"https://mapzen.com/data/metro-extracts/metro/medellin_colombia/\">here</a> for Medellín, Colombia. Elements of the raw XML file were audited, cleaned, converted to .csv, then imported into a sqlite3 database. Queries were then run on the database for an overview of the city data and possible further improvements to the OSM map."
   ]
  },
  {
   "cell_type": "markdown",
   "metadata": {},
   "source": [
    "___\n",
    "\n",
    "### Problems Encountered in Audit\n",
    "___\n",
    "A Jupyter notebook was used to parse through the raw XML Open Street Map data. Doing this allowed for an examination of tag values based on certain keywords. An in depth audit can be found in <a href='audit.ipynb'>Audit.ipynb</a>. When looking at the groupings of values I noticed problems in these areas.\n",
    "\n",
    "##### Street Names\n",
    "- Abbreviated names (\"Carrera\" -> \"Cra\")\n",
    "- Over/under capatlized names\n",
    "- UTF characters in some names (\"Vía\" -> \"V\\xeda\")\n",
    "- Clearly incorrect names or numbers\n",
    "\n",
    "##### Postcodes\n",
    "- Contains telephone numbers\n",
    "- Incorrect length of zip code\n",
    "\n",
    "##### City Names\n",
    "- UTF characters in some names (\"Medellín\" -> \"Medell\\xedn\")\n",
    "- Abbreviated names (\"La Ceja del Tambo\" -> \"La Ceja\")\n",
    "- Incorrect capatilization and spelling"
   ]
  },
  {
   "cell_type": "markdown",
   "metadata": {},
   "source": [
    "___\n",
    "### Data Cleaning\n",
    "___\n",
    "Before the data was being copied into csv files it was cleaned based on information from the audit. The reason for the csv files was to have a step in-between the raw data and a sql database. \n",
    "\n",
    "Running the data.py file, elements of the osm file are shaped into dictionaries and then searched for any attributes that were identified in the audit."
   ]
  },
  {
   "cell_type": "markdown",
   "metadata": {},
   "source": [
    "#### City Names\n",
    "City names were capatalized differently so they were converted to lowercase before being searched for starting characters. By identifying data that started with 'med' or 'la ceja' it was possible to correct spelling errors. When putting the data in cleaned csv files it was chosen to use the unicode í for Medellín because that is the correct spelling and the unicode characters work in the sql database. However, this character doesn't show up correctly in the osm file."
   ]
  },
  {
   "cell_type": "markdown",
   "metadata": {},
   "source": [
    "```python\n",
    "def clean_city(tag):\n",
    "    city_name = tag['value']\n",
    "    if city_name.lower().startswith('med'):\n",
    "        return 'Medellín'\n",
    "    if city_name.lower().startswith('la ceja'):\n",
    "        return 'La Ceja del Tambo'\n",
    "    if city_name.lower().startswith('el carmen'):\n",
    "        return 'El Carmen de Viboral'\n",
    "    else:\n",
    "        return city_name\n",
    "```"
   ]
  },
  {
   "cell_type": "markdown",
   "metadata": {},
   "source": [
    "#### Postcodes\n",
    "The correct postcodes found in the audit were different lengths because some data was entered with a leading 0 and some data was not. All postcodes in the Medellín area start with 5 so that and postcode length is what was searched for to ensure correct values. The schema for the sql database specifies the postcode column to be an integer, this will remove any leading zeros. It should be noted that the correct format for postcodes in Colombia is with the leading zero."
   ]
  },
  {
   "cell_type": "markdown",
   "metadata": {},
   "source": [
    "```python\n",
    "def clean_postcode(tag):\n",
    "    postcode = tag['value']\n",
    "    if postcode.startswith('05') and len(postcode) == 6:\n",
    "        return postcode\n",
    "    if postcode.startswith('5') and len(postcode) == 5:\n",
    "        return postcode\n",
    "    else:\n",
    "        return None\n",
    "```"
   ]
  },
  {
   "cell_type": "markdown",
   "metadata": {},
   "source": [
    "#### Street Names"
   ]
  },
  {
   "cell_type": "markdown",
   "metadata": {},
   "source": [
    "Before cleaning street names a list of acceptable street names in Colombia was created. If the street names in the osm file were in the acceptable list they were added to the database. Some names were abbreviated and those were expanded before being entered into the database. For the street name Vía some entries were using the unicode hex code \\xed, it was chosen to convert these to the unicode í before database entry."
   ]
  },
  {
   "cell_type": "markdown",
   "metadata": {},
   "source": [
    "```python\n",
    "def clean_street(tag):\n",
    "    accepted_street_names = ['Carrera', 'Calle', 'Avenida', 'Circular',\\\n",
    "     'Diagonal', 'Transversal', 'Doble', 'Acceso', 'Salida', \\\n",
    "     'Autopista', 'Glorieta', 'Variante']\n",
    "    street_name = (tag['value'].split())\n",
    "    for i, word in enumerate(street_name):\n",
    "        word = word.title()\n",
    "        if word in accepted_street_names:\n",
    "            pass\n",
    "        elif word.startswith(u'V\\xeda'):\n",
    "            street_name[i] = 'Vía'\n",
    "        elif word == 'Via': #Original was missing accent on the i\n",
    "            street_name[i] = 'Vía'\n",
    "        elif word == 'Cl': #Calle abbreviation\n",
    "            street_name[i] = 'Calle'\n",
    "        elif word == 'Cra': #Carrera abbreviation\n",
    "            street_name[i] = 'Carrera'\n",
    "        else:\n",
    "            pass\n",
    "    return \" \".join(street_name)\n",
    "```"
   ]
  },
  {
   "cell_type": "markdown",
   "metadata": {
    "collapsed": true
   },
   "source": [
    "___\n",
    "### Data Overview\n",
    "___\n",
    "\n",
    "#### File Sizes\n",
    "```\n",
    "medellin_colombia.osm ......... 81.9 MB\n",
    "osm_project.db ................ 51.7 MB\n",
    "nodes_tags.csv ................ 1.2 MB\n",
    "nodes.csv ..................... 32.3 MB\n",
    "ways_nodes.csv ................ 11.1 MB\n",
    "ways_tags.csv ................. 2.9 MB\n",
    "ways.csv ...................... 2.5 MB\n",
    "```\n",
    "#### Number of Nodes\n",
    "```sql\n",
    "SELECT COUNT(*) FROM node;\n",
    "\n",
    "391733\n",
    "```\n",
    "#### Number of Node Tags\n",
    "```sql\n",
    "SELECT COUNT(*) FROM node_tags;\n",
    "\n",
    "28942\n",
    "```\n",
    "#### Number of Users\n",
    "```sql\n",
    "SELECT COUNT(DISTINCT(u.uid)) FROM (SELECT uid FROM node UNION ALL SELECT uid FROM way) u;\n",
    "\n",
    "926\n",
    "```\n",
    "#### Top Users\n",
    "```sql\n",
    "SELECT u.user, COUNT(*) as users FROM (select user from node union all select user from way) u GROUP BY u.user ORDER BY users DESC LIMIT 10;\n",
    "\n",
    "carciofo|139333\n",
    "JLOSM|28483\n",
    "Argos|24999\n",
    "harrierco|24362\n",
    "Kleper|18022\n",
    "JosClag|13779\n",
    "cris_1994|11322\n",
    "humano|9534\n",
    "Antares_alf|9512\n",
    "mono11|7612\n",
    "```"
   ]
  },
  {
   "cell_type": "markdown",
   "metadata": {},
   "source": [
    "___\n",
    "### Data Exploration\n",
    "___\n",
    "#### Most Popular Cusine\n",
    "```sql\n",
    "SELECT value, COUNT(*) AS num FROM node_tags WHERE key = 'cuisine' GROUP BY value ORDER BY num DESC LIMIT 10;\n",
    "\n",
    "regional|18\n",
    "burger|17\n",
    "pizza|15\n",
    "coffee_shop|8\n",
    "vegetarian|6\n",
    "sandwich|4\n",
    "steak_house|4\n",
    "ice_cream|3\n",
    "local|3\n",
    "mexican|3\n",
    "```\n"
   ]
  },
  {
   "cell_type": "markdown",
   "metadata": {},
   "source": [
    "#### Most Popular Amenities\n",
    "```sqlite3\n",
    "SELECT value, COUNT(*)\n",
    "AS num FROM node_tags \n",
    "WHERE key = 'amenity' \n",
    "GROUP BY value \n",
    "ORDER BY num DESC \n",
    "LIMIT 10;\n",
    "\n",
    "restaurant|192\n",
    "place_of_worship|124\n",
    "fuel|120\n",
    "school|93\n",
    "fast_food|82\n",
    "hospital|79\n",
    "pharmacy|73\n",
    "telephone|66\n",
    "bank|62\n",
    "bar|57\n",
    "```\n"
   ]
  },
  {
   "cell_type": "markdown",
   "metadata": {},
   "source": [
    "#### Most Common Postcodes\n",
    "```sql\n",
    "SELECT value, COUNT(*) AS num FROM node_tags WHERE key = 'postcode' GROUP BY value ORDER BY num DESC; \n",
    "\n",
    "050021|5\n",
    "050022|5\n",
    "055010|5\n",
    "055420|5\n",
    "050023|4\n",
    "050020|3\n",
    "050031|3\n",
    "055422|2\n",
    "050012|1\n",
    "050026|1\n",
    "050034|1\n",
    "050035|1\n",
    "051037|1\n",
    "055413|1\n",
    "50026|1\n",
    "```"
   ]
  },
  {
   "cell_type": "markdown",
   "metadata": {},
   "source": [
    "#### Most Common Cities\n",
    "```sql\n",
    "SELECT value, COUNT(*) AS num FROM node_tags WHERE key = 'city' GROUP BY value ORDER BY num DESC;\n",
    "\n",
    "Medellín|278\n",
    "Envigado|14\n",
    "El Carmen de Viboral|7\n",
    "La Ceja del Tambo|5\n",
    "Comuna 8|4\n",
    "Bello|3\n",
    "Ebéjico|3\n",
    "Girardota|3\n",
    "Copacabana|2\n",
    "El Poblado, Medellín|2\n",
    "Marinilla|2\n",
    "Rionegro|2\n",
    "El Retiro|1\n",
    "Itagüi|1\n",
    "Itagüí|1\n",
    "La Estrella|1\n",
    "Santa Fe de Antioquia|1\n",
    "```"
   ]
  },
  {
   "cell_type": "markdown",
   "metadata": {},
   "source": [
    "___\n",
    "### Additional Ideas about Dataset\n",
    "___\n",
    "It can be seen from the queries above that this dataset is not as complete as it could be. The OSM community could put stricter rules about what different cuisines or amenities can be named. Having the map data combine local and reginal cuisine would make for a more consise dataset. This lack of convention in certain values is clearer in values with lower counts\n",
    "\n",
    "```sql\n",
    "SELECT value, COUNT(*) AS num FROM node_tags WHERE key = 'cuisine' GROUP BY value ORDER BY num ASC LIMIT 10;\n",
    "\n",
    "Arepas_rellenas_a_su_gusta,_hamburguesas,_perros_calientes,_jugos|1\n",
    "Café|1\n",
    "Cocina_gourmet,_saludable,_todas_las_proteínas_y_productos_orgánicos.|1\n",
    "Delikatessen|1\n",
    "Fusion|1\n",
    "Fusión|1\n",
    "Parrilla_y_Bar|1\n",
    "Peruana_y_Criolla|1\n",
    "Sanduche_cubano|1\n",
    "Sanduches_cubanos|1\n",
    "```\n",
    "\n",
    "Implementing stricter rules for value names could introduce additional problems. Having many different users inputing data will complicate things if only certain values are allowed. Values that are inputed through GPS data or other data online would need to first be verified against the various rules that restrict what values are allowed in the osm map."
   ]
  }
 ],
 "metadata": {
  "kernelspec": {
   "display_name": "Python 2",
   "language": "python",
   "name": "python2"
  },
  "language_info": {
   "codemirror_mode": {
    "name": "ipython",
    "version": 2
   },
   "file_extension": ".py",
   "mimetype": "text/x-python",
   "name": "python",
   "nbconvert_exporter": "python",
   "pygments_lexer": "ipython2",
   "version": "2.7.12"
  }
 },
 "nbformat": 4,
 "nbformat_minor": 0
}
